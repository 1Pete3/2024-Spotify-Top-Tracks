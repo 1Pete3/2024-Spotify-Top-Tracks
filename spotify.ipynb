{
 "cells": [
  {
   "cell_type": "code",
   "execution_count": 33,
   "metadata": {},
   "outputs": [
    {
     "name": "stdout",
     "output_type": "stream",
     "text": [
      "None\n"
     ]
    }
   ],
   "source": [
    "import kagglehub\n",
    "import pandas as pd\n",
    "import numpy as np\n",
    "import os\n",
    "from dotenv import load_dotenv, dotenv_values \n",
    "load_dotenv()\n",
    "CSV_FILE = 'Most Streamed Spotify Songs 2024.csv'\n",
    "\n",
    "\n",
    "\n"
   ]
  },
  {
   "cell_type": "code",
   "execution_count": 34,
   "metadata": {},
   "outputs": [],
   "source": [
    "df = pd.read_csv(CSV_FILE,encoding='ISO-8859-1')\n",
    "\n",
    "# Removes the TIDAL popularity column\n",
    "df = df.drop(df.columns[-2],axis=1)"
   ]
  },
  {
   "cell_type": "markdown",
   "metadata": {},
   "source": [
    "## Function that converts data\n",
    "1. The data is originally string so the commas get removed and it gets converted to a numeric value\n",
    "2. Empty values use the median of the column data\n",
    "3. For better readability values are converted to int\n"
   ]
  },
  {
   "cell_type": "code",
   "execution_count": 35,
   "metadata": {},
   "outputs": [],
   "source": [
    "def convertAndFill(df):\n",
    "    df = pd.to_numeric(df.str.replace(',',''), errors='coerce')\n",
    "    df = df.fillna(df.median())\n",
    "    df = df.astype('int64')\n",
    "    return df\n"
   ]
  },
  {
   "cell_type": "markdown",
   "metadata": {},
   "source": [
    "## Filling in empty values with the median for columns 'Spotify Streams' to the end"
   ]
  },
  {
   "cell_type": "code",
   "execution_count": 36,
   "metadata": {},
   "outputs": [],
   "source": [
    "df['Spotify Streams'] = convertAndFill(df['Spotify Streams'])\n",
    "df['Spotify Playlist Count'] = convertAndFill(df['Spotify Playlist Count'])\n"
   ]
  }
 ],
 "metadata": {
  "kernelspec": {
   "display_name": "Python 3",
   "language": "python",
   "name": "python3"
  },
  "language_info": {
   "codemirror_mode": {
    "name": "ipython",
    "version": 3
   },
   "file_extension": ".py",
   "mimetype": "text/x-python",
   "name": "python",
   "nbconvert_exporter": "python",
   "pygments_lexer": "ipython3",
   "version": "3.12.0"
  }
 },
 "nbformat": 4,
 "nbformat_minor": 2
}
